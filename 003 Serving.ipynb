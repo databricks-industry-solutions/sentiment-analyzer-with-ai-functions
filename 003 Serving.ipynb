{
 "cells": [
  {
   "cell_type": "markdown",
   "metadata": {
    "application/vnd.databricks.v1+cell": {
     "cellMetadata": {},
     "inputWidgets": {},
     "nuid": "35e27579-321e-459f-ad90-96d34cb5dda9",
     "showTitle": false,
     "tableResultSettingsMap": {},
     "title": ""
    }
   },
   "source": [
    "<div>\n",
    "<img src=\"https://cme-solution-accelerators-images.s3-us-west-2.amazonaws.com/toxicity/solution-accelerator-logo.png\"; width=\"50%\">\n",
    "</div>"
   ]
  },
  {
   "cell_type": "markdown",
   "metadata": {
    "application/vnd.databricks.v1+cell": {
     "cellMetadata": {},
     "inputWidgets": {},
     "nuid": "f03aafbc-9166-42dc-b04c-4c75b9dd3327",
     "showTitle": false,
     "tableResultSettingsMap": {},
     "title": ""
    }
   },
   "source": [
    "\n",
    "# About This Series of Notebooks\n",
    "\n",
    "This series of notebooks is intended to help you use AI_Query functions in Databricks and identify common sentiment and features from your customer feedback\n",
    "\n",
    "In support of this goal, we will:\n",
    "\n",
    "- Load customer feedback data from Amazon\n",
    "- Use out of the box [AI functions](https://docs.databricks.com/aws/en/large-language-models/ai-functions) in Databricks to deliver batch inference sentiment analysis on your data in only a few lines of code\n",
    "- Create  a single, simple pipeline to detect sentiment. This pipeline can then be used for managing tables for reporting, ad hoc queries, and/or decision support.\n",
    "- Create a Genie room so you can explore your sentiment data with natural language interactions \n",
    "- Create a dashboard for monitoring sentiment back to the business and drive insights and action"
   ]
  },
  {
   "cell_type": "markdown",
   "metadata": {
    "application/vnd.databricks.v1+cell": {
     "cellMetadata": {},
     "inputWidgets": {},
     "nuid": "d5e85cd5-68ea-4846-9ee8-82a4b920b56a",
     "showTitle": false,
     "tableResultSettingsMap": {},
     "title": ""
    }
   },
   "source": [
    "\n",
    "# Introduction\n",
    "\n",
    "In the previous notebook we used the AI_QUERY function with a custom prompt to analyse our data. This output was stored in the amazon_reviews_sentiment table in such a way that's readily accessible and understood by a human operator.\n",
    "\n",
    "In this notebook, we'll join this data with item metadata so we can look at key feedback by product, identify those with the worst feedback and analyse key themes and suggestions for improvement.\n",
    "\n",
    "![](images/Serve.png)"
   ]
  },
  {
   "cell_type": "code",
   "execution_count": 0,
   "metadata": {
    "application/vnd.databricks.v1+cell": {
     "cellMetadata": {},
     "inputWidgets": {},
     "nuid": "bb556150-e48c-42a8-bada-b5f052aff7b4",
     "showTitle": false,
     "tableResultSettingsMap": {},
     "title": ""
    }
   },
   "outputs": [],
   "source": [
    "catalog = dbutils.widgets.text(\"catalog\",'mido_edw_dev')\n",
    "schema = dbutils.widgets.text(\"schema\",'sentiment_analysis')\n",
    "volume = dbutils.widgets.text(\"volume\",'reviews')"
   ]
  },
  {
   "cell_type": "code",
   "execution_count": 0,
   "metadata": {
    "application/vnd.databricks.v1+cell": {
     "cellMetadata": {
      "byteLimit": 2048000,
      "rowLimit": 10000
     },
     "inputWidgets": {},
     "nuid": "649956d7-3f00-444f-9fb9-1151578512ee",
     "showTitle": false,
     "tableResultSettingsMap": {},
     "title": ""
    }
   },
   "outputs": [],
   "source": [
    "catalog = dbutils.widgets.get(\"catalog\")\n",
    "schema = dbutils.widgets.get(\"schema\")\n",
    "volume = dbutils.widgets.get(\"volume\")\n",
    "transpiledtable = 'amazon_reviews_sentiment'\n",
    "transpiledtable = f'{catalog}.{schema}.{transpiledtable}'\n",
    "analysistable = 'Reviews_Analysis'\n",
    "themestable = 'Themes_Analysis'"
   ]
  },
  {
   "cell_type": "markdown",
   "metadata": {
    "application/vnd.databricks.v1+cell": {
     "cellMetadata": {},
     "inputWidgets": {},
     "nuid": "47a06560-930e-4008-9792-e1c42f30ad16",
     "showTitle": false,
     "tableResultSettingsMap": {},
     "title": ""
    }
   },
   "source": [
    "\n",
    "#Step 1 - Summarise\n",
    "\n",
    "In our first step, we'll join our item data with the sentiment data into a single dataset.\n",
    "\n",
    "Run the cell below to create the view vAllReviewData"
   ]
  },
  {
   "cell_type": "code",
   "execution_count": 0,
   "metadata": {
    "application/vnd.databricks.v1+cell": {
     "cellMetadata": {
      "byteLimit": 2048000,
      "implicitDf": true,
      "rowLimit": 10000
     },
     "inputWidgets": {},
     "nuid": "b07c99b2-1c90-43f9-856d-4d398df8e3a0",
     "showTitle": false,
     "tableResultSettingsMap": {},
     "title": ""
    }
   },
   "outputs": [],
   "source": [
    "\n",
    "spark.sql(f\"\"\"CREATE OR REPLACE VIEW {catalog}.{schema}.vAllReviewData\n",
    "          as    \n",
    "          select \n",
    "          i.title item_name,\n",
    "          i.parent_asin item_id,\n",
    "          i.average_rating,\n",
    "          r.output\n",
    "          from {catalog}.{schema}.amazon_items i\n",
    "          inner join {catalog}.{schema}.amazon_reviews_sentiment r \n",
    "          on i.parent_asin = r.parent_asin\n",
    "         \"\"\").display()\n"
   ]
  },
  {
   "cell_type": "markdown",
   "metadata": {
    "application/vnd.databricks.v1+cell": {
     "cellMetadata": {},
     "inputWidgets": {},
     "nuid": "dbbe03e1-6ed7-49f7-9e17-c2f269a8ef5a",
     "showTitle": false,
     "tableResultSettingsMap": {},
     "title": ""
    }
   },
   "source": [
    "\n",
    "Run the following cell to persist the review sentiment data in a human readable format. Note the use of get_json_object to read the specific json field provided by the LLM"
   ]
  },
  {
   "cell_type": "code",
   "execution_count": 0,
   "metadata": {
    "application/vnd.databricks.v1+cell": {
     "cellMetadata": {
      "byteLimit": 2048000,
      "rowLimit": 10000
     },
     "inputWidgets": {},
     "nuid": "8705d346-9b25-4bfd-9531-cfa2b80e2827",
     "showTitle": false,
     "tableResultSettingsMap": {},
     "title": ""
    }
   },
   "outputs": [],
   "source": [
    "query = f\"\"\"\n",
    "CREATE OR REPLACE TABLE {catalog}.{schema}.{analysistable}\n",
    "as\n",
    "SELECT\n",
    "item_id,\n",
    "item_name,\n",
    "average_rating,\n",
    "get_json_object(output, '$.sentiment') AS sentiment,\n",
    "get_json_object(output, '$.sentiment_score') AS sentiment_score,\n",
    "get_json_object(output, '$.key_themes') AS key_themes,\n",
    "get_json_object(output, '$.suggestions') As Suggestions,\n",
    "1 as Review_Count\n",
    "FROM {catalog}.{schema}.vAllReviewData\n",
    "\"\"\"\n",
    "\n",
    "spark.sql(query)"
   ]
  },
  {
   "cell_type": "markdown",
   "metadata": {
    "application/vnd.databricks.v1+cell": {
     "cellMetadata": {},
     "inputWidgets": {},
     "nuid": "36249191-f982-4ef3-8ad5-08c89a6f3bab",
     "showTitle": false,
     "tableResultSettingsMap": {},
     "title": ""
    }
   },
   "source": [
    "\n",
    "We can now view the data and check all is as expected. As we can see, the sentiment data has been broken out into specific fields for consumption"
   ]
  },
  {
   "cell_type": "code",
   "execution_count": 0,
   "metadata": {
    "application/vnd.databricks.v1+cell": {
     "cellMetadata": {
      "byteLimit": 2048000,
      "rowLimit": 10000
     },
     "inputWidgets": {},
     "nuid": "9d58d758-1b0e-432f-b7a7-989c48a18519",
     "showTitle": false,
     "tableResultSettingsMap": {},
     "title": ""
    }
   },
   "outputs": [],
   "source": [
    "spark.sql(f\"select * from {catalog}.{schema}.{analysistable}\").display()"
   ]
  },
  {
   "cell_type": "markdown",
   "metadata": {
    "application/vnd.databricks.v1+cell": {
     "cellMetadata": {},
     "inputWidgets": {},
     "nuid": "cd284a8e-d0b3-45ea-8635-341e80758c8f",
     "showTitle": false,
     "tableResultSettingsMap": {},
     "title": ""
    }
   },
   "source": [
    "\n",
    "##Transform\n",
    "We will also transform our nested themes data to allow us to analyse product by theme also. See below for an example transformation:"
   ]
  },
  {
   "cell_type": "code",
   "execution_count": 0,
   "metadata": {
    "application/vnd.databricks.v1+cell": {
     "cellMetadata": {
      "byteLimit": 2048000,
      "implicitDf": true,
      "rowLimit": 10000
     },
     "inputWidgets": {},
     "nuid": "bd84db94-7331-4ed3-85e3-b5ed89840402",
     "showTitle": false,
     "tableResultSettingsMap": {},
     "title": ""
    }
   },
   "outputs": [],
   "source": [
    "query = f\"\"\"\n",
    "          CREATE OR REPLACE TABLE {catalog}.{schema}.{themestable}\n",
    "          SELECT\n",
    "            item_id,\n",
    "            item_name,\n",
    "            explode(from_json(key_themes, 'array<string>')) AS Key_theme\n",
    "          FROM {catalog}.{schema}.{analysistable};\n",
    "          \"\"\"\n",
    "\n",
    "spark.sql(query)\n",
    "spark.sql(f\"select * from {catalog}.{schema}.{themestable}\").display()"
   ]
  },
  {
   "cell_type": "markdown",
   "metadata": {
    "application/vnd.databricks.v1+cell": {
     "cellMetadata": {},
     "inputWidgets": {},
     "nuid": "c1f0c6b4-196d-4838-9a8e-c50c7204d078",
     "showTitle": false,
     "tableResultSettingsMap": {},
     "title": ""
    }
   },
   "source": [
    "\n",
    "#AI/BI\n",
    "\n",
    "Along with Genie, Databricks also provides powerful Dashboarding functionality with AI/BI. Please click here to see an example Dashboard that utilises our Sentiment Analysis data.\n",
    "\n",
    "You can access your example dashboard from the navigation tree on the left, titled \"Product Feedback Analysis Dashboard\"\n",
    "\n",
    "![](images/Example Dash.png)"
   ]
  },
  {
   "cell_type": "code",
   "execution_count": 0,
   "metadata": {
    "application/vnd.databricks.v1+cell": {
     "cellMetadata": {},
     "inputWidgets": {},
     "nuid": "3b478250-38e6-43f0-9921-4bae48fa27ba",
     "showTitle": false,
     "tableResultSettingsMap": {},
     "title": ""
    }
   },
   "outputs": [],
   "source": []
  }
 ],
 "metadata": {
  "application/vnd.databricks.v1+notebook": {
   "computePreferences": null,
   "dashboards": [],
   "environmentMetadata": {
    "base_environment": "",
    "environment_version": "2"
   },
   "inputWidgetPreferences": null,
   "language": "python",
   "notebookMetadata": {
    "mostRecentlyExecutedCommandWithImplicitDF": {
     "commandId": -1,
     "dataframes": [
      "_sqldf"
     ]
    },
    "pythonIndentUnit": 2
   },
   "notebookName": "003 Serving",
   "widgets": {}
  },
  "language_info": {
   "name": "python"
  }
 },
 "nbformat": 4,
 "nbformat_minor": 0
}
