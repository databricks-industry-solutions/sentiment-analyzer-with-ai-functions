{
 "cells": [
  {
   "cell_type": "code",
   "execution_count": 0,
   "metadata": {
    "application/vnd.databricks.v1+cell": {
     "cellMetadata": {
      "byteLimit": 2048000,
      "rowLimit": 10000
     },
     "inputWidgets": {},
     "nuid": "79a6a3c7-d8da-4bb7-8c21-30c1fe430f97",
     "showTitle": false,
     "tableResultSettingsMap": {},
     "title": ""
    }
   },
   "outputs": [],
   "source": [
    "# Set up parameters with widgets\n",
    "dbutils.widgets.text(\"catalog\", \"\")\n",
    "dbutils.widgets.text(\"schema\", \"\")\n",
    "dbutils.widgets.text(\"volume\", \"\")\n",
    "\n",
    "# Read the widget values\n",
    "catalog = 'mido_edw_dev' #dbutils.widgets.get(\"catalog\")\n",
    "schema = 'sentiment_analysis' #dbutils.widgets.get(\"schema\")\n",
    "volume = dbutils.widgets.get(\"volume\")"
   ]
  },
  {
   "cell_type": "code",
   "execution_count": 0,
   "metadata": {
    "application/vnd.databricks.v1+cell": {
     "cellMetadata": {
      "byteLimit": 2048000,
      "rowLimit": 10000
     },
     "inputWidgets": {},
     "nuid": "5a1a15a6-cc9a-4c89-9841-530842746db9",
     "showTitle": false,
     "tableResultSettingsMap": {},
     "title": ""
    },
    "jupyter": {
     "outputs_hidden": true
    }
   },
   "outputs": [],
   "source": [
    "%pip install datasets\n"
   ]
  },
  {
   "cell_type": "code",
   "execution_count": 0,
   "metadata": {
    "application/vnd.databricks.v1+cell": {
     "cellMetadata": {
      "byteLimit": 2048000,
      "rowLimit": 10000
     },
     "inputWidgets": {},
     "nuid": "99947d1f-2542-471e-b407-f56142691723",
     "showTitle": false,
     "tableResultSettingsMap": {},
     "title": ""
    },
    "jupyter": {
     "outputs_hidden": true
    }
   },
   "outputs": [],
   "source": [
    "import datasets\n",
    "datasets.logging.set_verbosity_error()\n",
    "\n"
   ]
  },
  {
   "cell_type": "code",
   "execution_count": 0,
   "metadata": {
    "application/vnd.databricks.v1+cell": {
     "cellMetadata": {
      "byteLimit": 2048000,
      "rowLimit": 10000
     },
     "inputWidgets": {},
     "nuid": "17cabac5-ae32-457f-ae73-01b8b21e9b36",
     "showTitle": false,
     "tableResultSettingsMap": {},
     "title": ""
    }
   },
   "outputs": [],
   "source": [
    "from datasets import load_dataset, concatenate_datasets\n",
    "\n",
    "from pyspark.sql.utils import AnalysisException\n",
    "\n",
    "table_name = f\"{catalog}.{schema}.amazon_reviews\"\n",
    "\n",
    "if not spark.catalog.tableExists(table_name):\n",
    "    datasetnew = load_dataset(\"McAuley-Lab/Amazon-Reviews-2023\", \"raw_review_Health_and_Personal_Care\", trust_remote_code=True)\n",
    "    merged_dataset = concatenate_datasets([ds for ds in datasetnew.values()])\n",
    "    df = merged_dataset.to_pandas()\n",
    "    spark_df = spark.createDataFrame(df)\n",
    "    spark_df.write.mode(\"overwrite\").saveAsTable(table_name)\n",
    "    print (f\"Table {table_name} created successfully\")\n",
    "else:\n",
    "    print (f\"Table {table_name} already exists\")\n",
    "    \n"
   ]
  },
  {
   "cell_type": "code",
   "execution_count": 0,
   "metadata": {
    "application/vnd.databricks.v1+cell": {
     "cellMetadata": {
      "byteLimit": 2048000,
      "rowLimit": 10000
     },
     "inputWidgets": {},
     "nuid": "dda910ad-e74d-42d5-b3d9-d47d37542fab",
     "showTitle": false,
     "tableResultSettingsMap": {},
     "title": ""
    }
   },
   "outputs": [],
   "source": [
    "from datasets import load_dataset, concatenate_datasets\n",
    "from pyspark.sql.functions import col, when, array\n",
    "from pyspark.sql.types import ArrayType, StringType\n",
    "\n",
    "table_name = f\"{catalog}.{schema}.amazon_items\"\n",
    "\n",
    "if not spark.catalog.tableExists(table_name):\n",
    "    datasetnew = load_dataset(\"McAuley-Lab/Amazon-Reviews-2023\", \"raw_meta_Health_and_Personal_Care\", trust_remote_code=True)\n",
    "    merged_dataset = concatenate_datasets([ds for ds in datasetnew.values()])\n",
    "    df = merged_dataset.to_pandas()\n",
    "    spark_df = spark.createDataFrame(df)\n",
    "    \n",
    "    # Handle NullType in categories column\n",
    "    spark_df = spark_df.withColumn(\n",
    "        \"categories\",\n",
    "        when(col(\"categories\").isNull(), array().cast(ArrayType(StringType()))).otherwise(col(\"categories\"))\n",
    "    )\n",
    "\n",
    "    # Select only the required columns\n",
    "    selected_columns = [\"main_category\", \"title\", \"parent_asin\", \"rating_number\", \"average_rating\"]\n",
    "    spark_df = spark_df.select(*selected_columns)\n",
    "    \n",
    "    \n",
    "    spark_df.write.mode(\"overwrite\").saveAsTable(table_name)\n",
    "    print(f\"Table {table_name} created successfully\")\n",
    "else:\n",
    "    print(f\"Table {table_name} already exists\")"
   ]
  }
 ],
 "metadata": {
  "application/vnd.databricks.v1+notebook": {
   "computePreferences": null,
   "dashboards": [],
   "environmentMetadata": {
    "base_environment": "",
    "environment_version": "2"
   },
   "inputWidgetPreferences": null,
   "language": "python",
   "notebookMetadata": {
    "mostRecentlyExecutedCommandWithImplicitDF": {
     "commandId": 1412556571970699,
     "dataframes": [
      "_sqldf"
     ]
    },
    "pythonIndentUnit": 2
   },
   "notebookName": "00_Setup",
   "widgets": {
    "catalog": {
     "currentValue": "",
     "nuid": "27e4a017-b40c-489d-9cc9-d27ce4c1c243",
     "typedWidgetInfo": {
      "autoCreated": false,
      "defaultValue": "",
      "label": null,
      "name": "catalog",
      "options": {
       "widgetDisplayType": "Text",
       "validationRegex": null
      },
      "parameterDataType": "String"
     },
     "widgetInfo": {
      "widgetType": "text",
      "defaultValue": "",
      "label": null,
      "name": "catalog",
      "options": {
       "widgetType": "text",
       "autoCreated": null,
       "validationRegex": null
      }
     }
    },
    "schema": {
     "currentValue": "",
     "nuid": "89a5365a-a5b4-4488-8224-345fce70d878",
     "typedWidgetInfo": {
      "autoCreated": false,
      "defaultValue": "",
      "label": null,
      "name": "schema",
      "options": {
       "widgetDisplayType": "Text",
       "validationRegex": null
      },
      "parameterDataType": "String"
     },
     "widgetInfo": {
      "widgetType": "text",
      "defaultValue": "",
      "label": null,
      "name": "schema",
      "options": {
       "widgetType": "text",
       "autoCreated": null,
       "validationRegex": null
      }
     }
    },
    "volume": {
     "currentValue": "",
     "nuid": "932f9d96-2dd8-45bc-b780-bfd8ecaf9fb4",
     "typedWidgetInfo": {
      "autoCreated": false,
      "defaultValue": "",
      "label": null,
      "name": "volume",
      "options": {
       "widgetDisplayType": "Text",
       "validationRegex": null
      },
      "parameterDataType": "String"
     },
     "widgetInfo": {
      "widgetType": "text",
      "defaultValue": "",
      "label": null,
      "name": "volume",
      "options": {
       "widgetType": "text",
       "autoCreated": null,
       "validationRegex": null
      }
     }
    }
   }
  },
  "language_info": {
   "name": "python"
  }
 },
 "nbformat": 4,
 "nbformat_minor": 0
}
