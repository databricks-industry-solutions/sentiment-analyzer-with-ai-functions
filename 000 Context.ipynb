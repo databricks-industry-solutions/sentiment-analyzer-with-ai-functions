{
 "cells": [
  {
   "cell_type": "markdown",
   "metadata": {
    "application/vnd.databricks.v1+cell": {
     "cellMetadata": {},
     "inputWidgets": {},
     "nuid": "35e27579-321e-459f-ad90-96d34cb5dda9",
     "showTitle": false,
     "tableResultSettingsMap": {},
     "title": ""
    }
   },
   "source": [
    "<div>\n",
    "<img src=\"https://cme-solution-accelerators-images.s3-us-west-2.amazonaws.com/toxicity/solution-accelerator-logo.png\"; width=\"50%\">\n",
    "</div>"
   ]
  },
  {
   "cell_type": "markdown",
   "metadata": {
    "application/vnd.databricks.v1+cell": {
     "cellMetadata": {},
     "inputWidgets": {},
     "nuid": "7521cd75-7bff-4bb2-a5a8-c040c080bfaf",
     "showTitle": false,
     "tableResultSettingsMap": {},
     "title": ""
    }
   },
   "source": [
    "\n",
    "![](/Workspace/Users/mike.dobing@databricks.com/customer_sentiment_analysis_with_ai_functions/images/Master Image)\n",
    "\n",
    "#Introduction\n",
    "\n",
    "This Databricks Solution Accelerator provides a ready-to-use framework for analyzing customer sentiment in retail, leveraging in-built AI functions and foundation models in the Databricks Lakehouse Platform.\n",
    "\n",
    "##Why Customer Sentiment Matters\n",
    "Understanding how customers feel about your brand and products is no longer a nice-to-have — it’s a competitive necessity. In a landscape where reviews, social media, and support interactions shape brand perception in real time, retailers must move beyond transactional data and tap into the voice of the customer.\n",
    "\n",
    "This solution accelerator achieves this by enabling retail teams to analyze customer sentiment and product feedback at scale — using advanced analytics and machine learning to surface actionable insights. From detecting emerging product issues to uncovering sentiment trends by region, channel, or category, this solution helps brands get closer to their customers than ever before.\n",
    "\n",
    "- Retailers can use this accelerator to:\n",
    "  - Extract and analyze sentiment from customer reviews, feedback, and social media\n",
    "  - Identify trends in positive, neutral, and negative sentiment\n",
    "  - Gain actionable insights to improve products, services, and customer experience\n",
    "\n",
    "\n",
    "By embedding sentiment and feedback intelligence into core retail workflows, brands can respond faster, innovate smarter, and drive loyalty in an increasingly customer-driven world.\n",
    "\n",
    "To assemble this application, *i.e.* the Sentiment Analyzer, we will need to obtain a series of documents that are relevant to the domain we wish to serve.  We will need to parse and store these to enable performant inference across the entire datasetset. We will then need to assemble the core analytical dashboards and natural language query space (Genie) which will allow our users to interact with the infered data.\n",
    "\n",
    "We will tackle these three steps across a series of simple notebooks:</p>\n",
    "\n",
    "- Load customer feedback data from Amazon\n",
    "- Use out of the box AI functions in Databricks to deliver batch inference sentiment analysis on your data in only a few lines of cvode\n",
    "- Create a single, simple pipeline to detect sentiment. This pipeline can then be used for managing tables for reporting, ad hoc queries, and/or decision support.\n",
    "- Create a Genie room so you can explore your sentiment data with natural language interactions Create a dashboard for monitoring sentiment back to the business and drive insights and action\n",
    "- Operationalise this as an end to end workflow using Databricks Workflows\n",
    "\n",
    "##High Level Flow\n",
    "\n",
    "The overall flow of this process is shown below, and we will walk through this in the next series of Notebooks\n",
    "\n",
    "![](/Workspace/Users/mike.dobing@databricks.com/customer_sentiment_analysis_with_ai_functions/images/first_slide_diag)\n",
    "\n",
    "\n",
    "** Authors **\n",
    "\n",
    "Mike Dobing (mike.dobing@databricks.com)\n"
   ]
  },
  {
   "cell_type": "markdown",
   "metadata": {
    "application/vnd.databricks.v1+cell": {
     "cellMetadata": {},
     "inputWidgets": {},
     "nuid": "cacb01cc-82c2-48ae-830c-2a9b2327f2ac",
     "showTitle": false,
     "tableResultSettingsMap": {},
     "title": ""
    }
   },
   "source": [
    "\n",
    "To progress, please proceed to the next notebook in this accelerator, [Ingestion](./001_Ingestion)"
   ]
  },
  {
   "cell_type": "code",
   "execution_count": 0,
   "metadata": {
    "application/vnd.databricks.v1+cell": {
     "cellMetadata": {},
     "inputWidgets": {},
     "nuid": "c13de5ba-73f1-451b-b22d-60ac0422e3ec",
     "showTitle": false,
     "tableResultSettingsMap": {},
     "title": ""
    }
   },
   "outputs": [],
   "source": []
  }
 ],
 "metadata": {
  "application/vnd.databricks.v1+notebook": {
   "computePreferences": null,
   "dashboards": [],
   "environmentMetadata": {
    "base_environment": "",
    "environment_version": "2"
   },
   "inputWidgetPreferences": null,
   "language": "python",
   "notebookMetadata": {
    "pythonIndentUnit": 2
   },
   "notebookName": "000 Context",
   "widgets": {}
  },
  "language_info": {
   "name": "python"
  }
 },
 "nbformat": 4,
 "nbformat_minor": 0
}
