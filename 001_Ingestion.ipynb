{
 "cells": [
  {
   "cell_type": "markdown",
   "metadata": {
    "application/vnd.databricks.v1+cell": {
     "cellMetadata": {
      "byteLimit": 2048000,
      "rowLimit": 10000
     },
     "inputWidgets": {},
     "nuid": "35e27579-321e-459f-ad90-96d34cb5dda9",
     "showTitle": false,
     "tableResultSettingsMap": {},
     "title": ""
    }
   },
   "source": [
    "<div>\n",
    "<img src=\"https://cme-solution-accelerators-images.s3-us-west-2.amazonaws.com/toxicity/solution-accelerator-logo.png\"; width=\"50%\">\n",
    "</div>"
   ]
  },
  {
   "cell_type": "markdown",
   "metadata": {
    "application/vnd.databricks.v1+cell": {
     "cellMetadata": {
      "byteLimit": 2048000,
      "rowLimit": 10000
     },
     "inputWidgets": {},
     "nuid": "cacb01cc-82c2-48ae-830c-2a9b2327f2ac",
     "showTitle": false,
     "tableResultSettingsMap": {},
     "title": ""
    }
   },
   "source": [
    "\n",
    "# About This Series of Notebooks\n",
    "\n",
    "This series of notebooks is intended to help you use AI_Query functions in Databricks and identify common sentiment and features from your customer feedback\n",
    "\n",
    "In support of this goal, we will:\n",
    "\n",
    "- Load customer feedback data from Amazon\n",
    "- Use out of the box [AI functions](https://docs.databricks.com/aws/en/large-language-models/ai-functions) in Databricks to deliver batch inference sentiment analysis on your data in only a few lines of code\n",
    "- Create  a single, simple pipeline to detect sentiment. This pipeline can then be used for managing tables for reporting, ad hoc queries, and/or decision support.\n",
    "- Create a Genie room so you can explore your sentiment data with natural language interactions \n",
    "- Create a dashboard for monitoring sentiment back to the business and drive insights and action"
   ]
  },
  {
   "cell_type": "markdown",
   "metadata": {
    "application/vnd.databricks.v1+cell": {
     "cellMetadata": {
      "byteLimit": 2048000,
      "rowLimit": 10000
     },
     "inputWidgets": {},
     "nuid": "d5e85cd5-68ea-4846-9ee8-82a4b920b56a",
     "showTitle": false,
     "tableResultSettingsMap": {},
     "title": ""
    }
   },
   "source": [
    "\n",
    "# About This Data"
   ]
  },
  {
   "cell_type": "markdown",
   "metadata": {
    "application/vnd.databricks.v1+cell": {
     "cellMetadata": {
      "byteLimit": 2048000,
      "rowLimit": 10000
     },
     "inputWidgets": {},
     "nuid": "5a4bef66-8574-4567-80ae-ff0a554bc391",
     "showTitle": false,
     "tableResultSettingsMap": {},
     "title": ""
    }
   },
   "source": [
    "\n",
    "<table>\n",
    "  <tr>\n",
    "    <td style=\"vertical-align: top; width: 70%;\">\n",
    "      <p>This dataset is the Amazon Reviews'23 Dataset provided by McAuley labs and includes rich features such as:</p>\n",
    "      <ol>\n",
    "        <li>User Reviews (ratings, text, helpfulness votes, etc.)</li>\n",
    "        <li>Item Metadata (descriptions, price, raw image, etc.)</li>\n",
    "        <li>Links (user-item / bought together graphs).</li>\n",
    "      </ol>\n",
    "      <p>Full details of the Dataset and its usage can be found \n",
    "      <a href=\"https://amazon-reviews-2023.github.io/main.html\" target=\"_blank\">here</a>.</p>\n",
    "    </td>\n",
    "    <td style=\"vertical-align: top; text-align: right; width: 30%;\">\n",
    "      <img src=\"/Workspace/Users/mike.dobing@databricks.com/Sentiment Analysis  With AI Functions/images/ucsd_logo.png\" width=\"150\">\n",
    "    </td>\n",
    "  </tr>\n",
    "</table>"
   ]
  },
  {
   "cell_type": "markdown",
   "metadata": {
    "application/vnd.databricks.v1+cell": {
     "cellMetadata": {
      "byteLimit": 2048000,
      "rowLimit": 10000
     },
     "inputWidgets": {},
     "nuid": "9b9e6c10-3387-4849-84e2-7d929b133207",
     "showTitle": false,
     "tableResultSettingsMap": {},
     "title": ""
    }
   },
   "source": [
    "\n",
    "# High Level Flow - Ingestion\n",
    "\n",
    "In terms of a flow, we're going to be following the approach below, with each step being indicated on the diagram.\n",
    "\n",
    "In this Ingestion notebook we'll be following the area highlighted in red - specifically downloading our data into a Volume in Databricks before ingesting into a managed table in Unity Catalog.\n",
    "\n",
    "![](/Workspace/Users/mike.dobing@databricks.com/customer_sentiment_analysis_with_ai_functions/images/ingest.png)"
   ]
  },
  {
   "cell_type": "markdown",
   "metadata": {
    "application/vnd.databricks.v1+cell": {
     "cellMetadata": {
      "byteLimit": 2048000,
      "rowLimit": 10000
     },
     "inputWidgets": {},
     "nuid": "f47d8bf4-d45c-4b71-906d-e0ccbebc6b57",
     "showTitle": false,
     "tableResultSettingsMap": {},
     "title": ""
    }
   },
   "source": [
    "\n",
    "#Step 1 - Setup Our Catalog, Schema and Tables\n",
    "\n",
    "Initially, we define the Catalog, Schema and Volumes that will be used for this accelerator"
   ]
  },
  {
   "cell_type": "code",
   "execution_count": 0,
   "metadata": {
    "application/vnd.databricks.v1+cell": {
     "cellMetadata": {
      "byteLimit": 2048000,
      "rowLimit": 10000
     },
     "inputWidgets": {},
     "nuid": "649956d7-3f00-444f-9fb9-1151578512ee",
     "showTitle": true,
     "tableResultSettingsMap": {},
     "title": "Define Configurations"
    }
   },
   "outputs": [],
   "source": [
    "catalog = dbutils.widgets.getArgument(\"catalog\")\n",
    "schema = dbutils.widgets.getArgument(\"schema\")\n",
    "volume = dbutils.widgets.getArgument(\"volume\")"
   ]
  },
  {
   "cell_type": "markdown",
   "metadata": {
    "application/vnd.databricks.v1+cell": {
     "cellMetadata": {
      "byteLimit": 2048000,
      "rowLimit": 10000
     },
     "inputWidgets": {},
     "nuid": "b2484838-15fa-4fcf-a50b-1755a09699a9",
     "showTitle": false,
     "tableResultSettingsMap": {},
     "title": ""
    }
   },
   "source": [
    "\n",
    "With your chosen catalog, schema and volume defined, we can now create the necessary objects required to build the accelerator"
   ]
  },
  {
   "cell_type": "code",
   "execution_count": 0,
   "metadata": {
    "application/vnd.databricks.v1+cell": {
     "cellMetadata": {
      "byteLimit": 2048000,
      "rowLimit": 10000
     },
     "inputWidgets": {},
     "nuid": "3d0635e7-05b9-47a7-991b-1ef790b486b6",
     "showTitle": true,
     "tableResultSettingsMap": {},
     "title": "Setup Catalog and Schema"
    }
   },
   "outputs": [],
   "source": [
    "\n",
    "query = f\"create catalog if not exists {catalog}\"\n",
    "spark.sql(query)\n",
    "query = f\"create schema if not exists {catalog}.{schema}\"\n",
    "spark.sql(query)\n",
    "query = f\"create volume if not exists {catalog}.{schema}.{volume}\""
   ]
  },
  {
   "cell_type": "markdown",
   "metadata": {
    "application/vnd.databricks.v1+cell": {
     "cellMetadata": {
      "byteLimit": 2048000,
      "rowLimit": 10000
     },
     "inputWidgets": {},
     "nuid": "65ad29dd-bf27-4802-99c1-8627957dab60",
     "showTitle": false,
     "tableResultSettingsMap": {},
     "title": ""
    }
   },
   "source": [
    "# Step 2 - Setup Raw Data\n",
    "\n",
    "Run the following command. This will download (if needed) the Amazon Review data and store in the previously supplied tables and catalogs for our subsequent analysis."
   ]
  },
  {
   "cell_type": "code",
   "execution_count": 0,
   "metadata": {
    "application/vnd.databricks.v1+cell": {
     "cellMetadata": {
      "byteLimit": 2048000,
      "rowLimit": 10000
     },
     "inputWidgets": {},
     "nuid": "d95969da-3ae0-4984-ae78-ec947f8095b0",
     "showTitle": false,
     "tableResultSettingsMap": {},
     "title": ""
    }
   },
   "outputs": [],
   "source": [
    "%run \"./util/00_Setup\""
   ]
  },
  {
   "cell_type": "markdown",
   "metadata": {
    "application/vnd.databricks.v1+cell": {
     "cellMetadata": {
      "byteLimit": 2048000,
      "rowLimit": 10000
     },
     "inputWidgets": {},
     "nuid": "5adb3503-7cda-476f-a943-276fb79b009d",
     "showTitle": false,
     "tableResultSettingsMap": {},
     "title": ""
    }
   },
   "source": [
    "\n",
    "#Step 3 - Verify Our Raw Data\n",
    "\n",
    "Our data is now ready for initial querying and validation. Run the following cells to explore the review data."
   ]
  },
  {
   "cell_type": "code",
   "execution_count": 0,
   "metadata": {
    "application/vnd.databricks.v1+cell": {
     "cellMetadata": {
      "byteLimit": 2048000,
      "rowLimit": 10000
     },
     "inputWidgets": {},
     "nuid": "d17dff19-689b-4cb4-ba91-a727d30930ad",
     "showTitle": true,
     "tableResultSettingsMap": {},
     "title": "Verify Review Data"
    }
   },
   "outputs": [],
   "source": [
    "spark.sql(f\"select * from {catalog}.{schema}.amazon_reviews\").display()"
   ]
  },
  {
   "cell_type": "markdown",
   "metadata": {
    "application/vnd.databricks.v1+cell": {
     "cellMetadata": {},
     "inputWidgets": {},
     "nuid": "9915b2f8-4bbc-427b-8b4b-97d63c503808",
     "showTitle": false,
     "tableResultSettingsMap": {},
     "title": ""
    }
   },
   "source": [
    "We can also do this against our item table to review the item metadata captured in our source data"
   ]
  },
  {
   "cell_type": "code",
   "execution_count": 0,
   "metadata": {
    "application/vnd.databricks.v1+cell": {
     "cellMetadata": {
      "byteLimit": 2048000,
      "rowLimit": 10000
     },
     "inputWidgets": {},
     "nuid": "a2544ab5-11fd-4d69-99dd-a6c65f31ebb5",
     "showTitle": true,
     "tableResultSettingsMap": {},
     "title": "Verify Item Data"
    }
   },
   "outputs": [],
   "source": [
    "spark.sql(f\"select main_category, title, parent_asin, rating_number, average_rating from {catalog}.{schema}.amazon_items\").display()"
   ]
  },
  {
   "cell_type": "markdown",
   "metadata": {
    "application/vnd.databricks.v1+cell": {
     "cellMetadata": {
      "byteLimit": 2048000,
      "rowLimit": 10000
     },
     "inputWidgets": {},
     "nuid": "5252d4d5-1699-4475-8ca8-ae46df06ffe5",
     "showTitle": false,
     "tableResultSettingsMap": {},
     "title": ""
    }
   },
   "source": [
    "\n",
    "#Conclusion \n",
    "\n",
    "The review data has now been successfully ingested and cleansed. It's now ready for batch inference using AI_Query.\n",
    "\n",
    "Please go to [Inference](https://adb-984752964297111.11.azuredatabricks.net/editor/notebooks/1332008936123138?o=984752964297111) notebook for the next step where we introduce AI_Query"
   ]
  },
  {
   "cell_type": "code",
   "execution_count": 0,
   "metadata": {
    "application/vnd.databricks.v1+cell": {
     "cellMetadata": {
      "byteLimit": 2048000,
      "rowLimit": 10000
     },
     "inputWidgets": {},
     "nuid": "ccc5ad3f-03bc-4332-8d40-31039a0ea2d1",
     "showTitle": false,
     "tableResultSettingsMap": {},
     "title": ""
    }
   },
   "outputs": [],
   "source": []
  }
 ],
 "metadata": {
  "application/vnd.databricks.v1+notebook": {
   "computePreferences": null,
   "dashboards": [],
   "environmentMetadata": {
    "base_environment": "",
    "environment_version": "2"
   },
   "inputWidgetPreferences": null,
   "language": "python",
   "notebookMetadata": {
    "pythonIndentUnit": 2
   },
   "notebookName": "001_Ingestion",
   "widgets": {
    "catalog": {
     "currentValue": "mido_edw_dev",
     "nuid": "49596b02-0369-4888-bbac-9db1156c935c",
     "typedWidgetInfo": {
      "autoCreated": false,
      "defaultValue": "",
      "label": "",
      "name": "catalog",
      "options": {
       "widgetDisplayType": "Text",
       "validationRegex": null
      },
      "parameterDataType": "String"
     },
     "widgetInfo": {
      "widgetType": "text",
      "defaultValue": "",
      "label": "",
      "name": "catalog",
      "options": {
       "widgetType": "text",
       "autoCreated": false,
       "validationRegex": null
      }
     }
    },
    "schema": {
     "currentValue": "sentiment_analysis",
     "nuid": "c17928d2-9365-4bc0-87d0-e30721baa66b",
     "typedWidgetInfo": {
      "autoCreated": false,
      "defaultValue": "",
      "label": "",
      "name": "schema",
      "options": {
       "widgetDisplayType": "Text",
       "validationRegex": null
      },
      "parameterDataType": "String"
     },
     "widgetInfo": {
      "widgetType": "text",
      "defaultValue": "",
      "label": "",
      "name": "schema",
      "options": {
       "widgetType": "text",
       "autoCreated": false,
       "validationRegex": null
      }
     }
    },
    "volume": {
     "currentValue": "reviews",
     "nuid": "aa1974fa-4359-49e2-85f8-3c94429b62b3",
     "typedWidgetInfo": {
      "autoCreated": false,
      "defaultValue": "",
      "label": "",
      "name": "volume",
      "options": {
       "widgetDisplayType": "Text",
       "validationRegex": null
      },
      "parameterDataType": "String"
     },
     "widgetInfo": {
      "widgetType": "text",
      "defaultValue": "",
      "label": "",
      "name": "volume",
      "options": {
       "widgetType": "text",
       "autoCreated": false,
       "validationRegex": null
      }
     }
    }
   }
  },
  "language_info": {
   "name": "python"
  }
 },
 "nbformat": 4,
 "nbformat_minor": 0
}
